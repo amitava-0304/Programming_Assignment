{
 "cells": [
  {
   "cell_type": "code",
   "execution_count": null,
   "id": "8dcc1c1b",
   "metadata": {},
   "outputs": [],
   "source": [
    "1.Write a function that stutters a word as if someone is struggling to read it. \n",
    "The first two letters are repeated twice with an ellipsis ... and space after each, \n",
    "and then the word is pronounced with a question mark ?\n",
    "\n",
    "Examples: stutter(\"incredible\") ➞ \"in... in... incredible?\"\n",
    "stutter(\"enthusiastic\") ➞ \"en... en... enthusiastic?\"\n",
    "stutter(\"outstanding\") ➞ \"ou... ou... outstanding?\"\n",
    "\n",
    "Hint :- Assume all input is in lower case and at least two characters long"
   ]
  },
  {
   "cell_type": "code",
   "execution_count": 2,
   "id": "b8cdfee4",
   "metadata": {},
   "outputs": [],
   "source": [
    "def stutter(word):\n",
    "    print(f'{word[0:2]}... {word[0:2]}... {word}?')"
   ]
  },
  {
   "cell_type": "code",
   "execution_count": 3,
   "id": "998aa28d",
   "metadata": {},
   "outputs": [
    {
     "name": "stdout",
     "output_type": "stream",
     "text": [
      "in... in... incredible?\n"
     ]
    }
   ],
   "source": [
    "stutter(\"incredible\")"
   ]
  },
  {
   "cell_type": "code",
   "execution_count": 5,
   "id": "d94db8a3",
   "metadata": {},
   "outputs": [
    {
     "name": "stdout",
     "output_type": "stream",
     "text": [
      "en... en... enthusiastic?\n"
     ]
    }
   ],
   "source": [
    "stutter(\"enthusiastic\")"
   ]
  },
  {
   "cell_type": "code",
   "execution_count": null,
   "id": "16091c48",
   "metadata": {},
   "outputs": [],
   "source": [
    "2..Create a function that takes an angle in radians and returns the corresponding angle in degrees rounded\n",
    "to one decimal place ?\n",
    "\n",
    "Examples: radians_to_degrees(1) ➞ 57.3\n",
    "radians_to_degrees(20) ➞ 1145.9\n",
    "radians_to_degrees(50) ➞ 2864.8\n"
   ]
  },
  {
   "cell_type": "code",
   "execution_count": 8,
   "id": "f3583b5d",
   "metadata": {},
   "outputs": [],
   "source": [
    "import math\n",
    "def radians_to_degrees(num):\n",
    "    out_num = (180/math.pi)*num\n",
    "    print(f'{num} radian(s) ➞ {out_num:.1f} degrees')"
   ]
  },
  {
   "cell_type": "code",
   "execution_count": 9,
   "id": "afdea038",
   "metadata": {},
   "outputs": [
    {
     "name": "stdout",
     "output_type": "stream",
     "text": [
      "1 radian(s) ➞ 57.3 degrees\n"
     ]
    }
   ],
   "source": [
    "radians_to_degrees(1)"
   ]
  },
  {
   "cell_type": "code",
   "execution_count": 10,
   "id": "7e5b3e34",
   "metadata": {},
   "outputs": [
    {
     "name": "stdout",
     "output_type": "stream",
     "text": [
      "50 radian(s) ➞ 2864.8 degrees\n"
     ]
    }
   ],
   "source": [
    "radians_to_degrees(50)"
   ]
  },
  {
   "cell_type": "code",
   "execution_count": null,
   "id": "16828a5b",
   "metadata": {},
   "outputs": [],
   "source": [
    "3.In this challenge, establish if a given integer num is a Curzon number. \n",
    "If 1 plus 2 elevated to num is exactly divisible by 1 plus 2 multiplied by num, then num is a Curzon number. \n",
    "Given a non-negative integer num, implement a function that returns True if num is a Curzon number, or False otherwise.\n",
    "\n",
    "Examples: `is_curzon(5) ➞ True\n",
    "\n",
    "# 2 ** 5 + 1 = 33\n",
    "# 2 * 5 + 1 = 11\n",
    "# 33 is a multiple of 11\n",
    "\n",
    "is_curzon(10) ➞ False\n",
    "\n",
    "# 2 ** 10 + 1 = 1025\n",
    "# 2 * 10 + 1 = 21\n",
    "# 1025 is not a multiple of 21\n",
    "\n",
    "is_curzon(14) ➞ True\n",
    "\n",
    "# 2 ** 14 + 1 = 16385\n",
    "# 2 * 14 + 1 = 29\n",
    "# 16385 is a multiple of 29`\n",
    "\n"
   ]
  },
  {
   "cell_type": "code",
   "execution_count": 11,
   "id": "ced5167f",
   "metadata": {},
   "outputs": [],
   "source": [
    "def is_curzon(num):\n",
    "    if (pow(2,num)+1)%((2*num)+1) == 0:\n",
    "        return True\n",
    "    else:\n",
    "        return False"
   ]
  },
  {
   "cell_type": "code",
   "execution_count": 12,
   "id": "08ad9fa3",
   "metadata": {},
   "outputs": [
    {
     "data": {
      "text/plain": [
       "True"
      ]
     },
     "execution_count": 12,
     "metadata": {},
     "output_type": "execute_result"
    }
   ],
   "source": [
    "is_curzon(14)"
   ]
  },
  {
   "cell_type": "code",
   "execution_count": 13,
   "id": "5486d430",
   "metadata": {},
   "outputs": [
    {
     "data": {
      "text/plain": [
       "False"
      ]
     },
     "execution_count": 13,
     "metadata": {},
     "output_type": "execute_result"
    }
   ],
   "source": [
    "is_curzon(10)"
   ]
  },
  {
   "cell_type": "code",
   "execution_count": null,
   "id": "623f58a3",
   "metadata": {},
   "outputs": [],
   "source": [
    "4.Given the side length x find the area of a hexagon ?\n",
    "\n",
    "Examples: area_of_hexagon(1) ➞ 2.6\n",
    "area_of_hexagon(2) ➞ 10.4\n",
    "area_of_hexagon(3) ➞ 23.4\n"
   ]
  },
  {
   "cell_type": "code",
   "execution_count": 14,
   "id": "1170c49a",
   "metadata": {},
   "outputs": [],
   "source": [
    "import math\n",
    "def area_of_hexagon(num):\n",
    "    out_num = ((3*math.sqrt(3))/2)*(pow(num,2))\n",
    "    print(f'Area for Hexagon of sidelength {num} ➞ {out_num:.1f}')"
   ]
  },
  {
   "cell_type": "code",
   "execution_count": 15,
   "id": "9bcbd6da",
   "metadata": {},
   "outputs": [
    {
     "name": "stdout",
     "output_type": "stream",
     "text": [
      "Area for Hexagon of sidelength 3 ➞ 23.4\n"
     ]
    }
   ],
   "source": [
    "area_of_hexagon(3)"
   ]
  },
  {
   "cell_type": "code",
   "execution_count": null,
   "id": "1895f20e",
   "metadata": {},
   "outputs": [],
   "source": [
    "5.Create a function that returns a base-2 (binary) representation of a base-10 (decimal) string number. To convert is simple:\n",
    "\n",
    "((2) means base-2 and (10) means base-10)\n",
    "010101001(2) = 1 + 8 + 32 + 128.\n",
    "Going from right to left, the value of the most right bit is 1, now from that every bit to the left \n",
    "will be x2 the value, value of an 8 bit binary numbers are (256, 128, 64, 32, 16, 8, 4, 2, 1).\n",
    "Examples:\n",
    "`binary(1) ➞ \"1\"\n",
    "\n",
    "# 1* 1 = 1\n",
    "\n",
    "binary(5) ➞ \"101\"\n",
    "\n",
    "# 1 1 + 1 4 = 5\n",
    "\n",
    "binary(10) ➞ \"1010\"\n",
    "\n",
    "# 1 2 + 1 8 = 10`"
   ]
  },
  {
   "cell_type": "code",
   "execution_count": 18,
   "id": "8824bb15",
   "metadata": {},
   "outputs": [],
   "source": [
    "def binary(num):\n",
    "    bin_num = bin(num).replace('0b','') \n",
    "    print(f'Binary of {num} ➞ {bin_num}')"
   ]
  },
  {
   "cell_type": "code",
   "execution_count": 19,
   "id": "ed6ed8e5",
   "metadata": {},
   "outputs": [
    {
     "name": "stdout",
     "output_type": "stream",
     "text": [
      "Binary of 5 ➞ 101\n"
     ]
    }
   ],
   "source": [
    "binary(5)"
   ]
  },
  {
   "cell_type": "code",
   "execution_count": 20,
   "id": "d910fff6",
   "metadata": {},
   "outputs": [
    {
     "name": "stdout",
     "output_type": "stream",
     "text": [
      "Binary of 10 ➞ 1010\n"
     ]
    }
   ],
   "source": [
    "binary(10)"
   ]
  },
  {
   "cell_type": "code",
   "execution_count": null,
   "id": "c5076132",
   "metadata": {},
   "outputs": [],
   "source": []
  }
 ],
 "metadata": {
  "kernelspec": {
   "display_name": "Python 3 (ipykernel)",
   "language": "python",
   "name": "python3"
  },
  "language_info": {
   "codemirror_mode": {
    "name": "ipython",
    "version": 3
   },
   "file_extension": ".py",
   "mimetype": "text/x-python",
   "name": "python",
   "nbconvert_exporter": "python",
   "pygments_lexer": "ipython3",
   "version": "3.9.7"
  }
 },
 "nbformat": 4,
 "nbformat_minor": 5
}
