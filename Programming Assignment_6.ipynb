{
 "cells": [
  {
   "cell_type": "markdown",
   "metadata": {},
   "source": [
    "## Python Basic Programming 6"
   ]
  },
  {
   "cell_type": "markdown",
   "metadata": {},
   "source": [
    "### 1. Write a Python Program to Display Fibonacci Sequence Using Recursion?\n"
   ]
  },
  {
   "cell_type": "code",
   "execution_count": 15,
   "metadata": {},
   "outputs": [
    {
     "name": "stdout",
     "output_type": "stream",
     "text": [
      "enter a number to find the fibonacci series : 8\n",
      "Fibonacci series upto  8 :\n",
      "0 1 1 2 3 5 8 13 "
     ]
    }
   ],
   "source": [
    "# Fibonacci series - > 1, 1, 2, 3, 5,8,13........\n",
    "def fibo(n):\n",
    "    if n <= 1:\n",
    "        return n\n",
    "    else:\n",
    "        return fibo(n-1) +  fibo(n-2)\n",
    "sequence = int(input(\"enter a number to find the fibonacci series : \"))\n",
    "\n",
    "\n",
    "if sequence <= 0:\n",
    "    print(\"Please enter a positive number\")\n",
    "elif sequence == 1:\n",
    "    print(\"Fibonacci series upto \",sequence, \":\")\n",
    "    print(f1)\n",
    "else:\n",
    "    print(\"Fibonacci series upto \",sequence, \":\")\n",
    "    for i in range(sequence):       \n",
    "        print(fibo(i),end=' ')\n",
    "        "
   ]
  },
  {
   "cell_type": "markdown",
   "metadata": {},
   "source": [
    "### 2. Write a Python Program to Find Factorial of Number Using Recursion?\n"
   ]
  },
  {
   "cell_type": "code",
   "execution_count": 8,
   "metadata": {},
   "outputs": [
    {
     "name": "stdout",
     "output_type": "stream",
     "text": [
      "Enter a Number to find factorial : 6\n",
      "Factorial of 6 is 720\n"
     ]
    }
   ],
   "source": [
    "# Factorial of a number\n",
    "\n",
    "def fact(n):  \n",
    "    if n == 1:\n",
    "        return n\n",
    "    else:\n",
    "        return n * fact(n-1)   \n",
    "        \n",
    "\n",
    "num = int(input(\"Enter a Number to find factorial : \"))\n",
    "if num < 0:\n",
    "    print(\"Can not calculate Factorial of a negative number\")        \n",
    "elif num == 0:\n",
    "    print(\"Factorial of zero is 1\")\n",
    "else:\n",
    "    print(\"Factorial of {} is {}\".format(num, fact(num)))"
   ]
  },
  {
   "cell_type": "markdown",
   "metadata": {},
   "source": [
    "### 3. Write a Python Program to calculate your Body Mass Index?\n",
    "\n"
   ]
  },
  {
   "cell_type": "code",
   "execution_count": 27,
   "metadata": {},
   "outputs": [
    {
     "name": "stdout",
     "output_type": "stream",
     "text": [
      "enter your height in feet : 5\n",
      "enter your weight in kilo : 70\n",
      "The BIM is =  2.8\n"
     ]
    }
   ],
   "source": [
    "# BMI = weight / Height * height\n",
    "\n",
    "h = float(input(\"enter your height in feet : \"))\n",
    "w = float(input(\"enter your weight in kilo : \"))\n",
    "\n",
    "bmi = w/(h**2)\n",
    "\n",
    "print(\"The BIM is = \",bmi)\n"
   ]
  },
  {
   "cell_type": "markdown",
   "metadata": {},
   "source": [
    "### 4. Write a Python Program to calculate the natural logarithm of any number?\n"
   ]
  },
  {
   "cell_type": "code",
   "execution_count": 36,
   "metadata": {},
   "outputs": [
    {
     "name": "stdout",
     "output_type": "stream",
     "text": [
      "Enter a number : 5\n",
      "Log of 5 is 1.6094379124341003\n"
     ]
    }
   ],
   "source": [
    "import math\n",
    "x = int(input((\"Enter a number : \")))\n",
    "log = math.log(x)\n",
    "print(\"Log of {} is {}\".format(x, log))"
   ]
  },
  {
   "cell_type": "markdown",
   "metadata": {},
   "source": [
    "### 5. Write a Python Program for cube sum of first n natural numbers?"
   ]
  },
  {
   "cell_type": "code",
   "execution_count": 39,
   "metadata": {},
   "outputs": [
    {
     "name": "stdout",
     "output_type": "stream",
     "text": [
      "Enter n : 4\n",
      "Cube sum of 4 natural numbers is 100\n"
     ]
    }
   ],
   "source": [
    "n = int(input(\"Enter n : \"))\n",
    "sum = 0\n",
    "for i in range(1,n+1):\n",
    "    sum+=i**3\n",
    "print(\"Cube sum of {} natural numbers is {}\".format(n,sum))\n"
   ]
  }
 ],
 "metadata": {
  "kernelspec": {
   "display_name": "Python 3",
   "language": "python",
   "name": "python3"
  },
  "language_info": {
   "codemirror_mode": {
    "name": "ipython",
    "version": 3
   },
   "file_extension": ".py",
   "mimetype": "text/x-python",
   "name": "python",
   "nbconvert_exporter": "python",
   "pygments_lexer": "ipython3",
   "version": "3.8.3"
  }
 },
 "nbformat": 4,
 "nbformat_minor": 4
}
