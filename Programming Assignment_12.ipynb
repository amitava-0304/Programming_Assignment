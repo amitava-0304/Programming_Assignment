{
 "cells": [
  {
   "cell_type": "markdown",
   "id": "699b53e0",
   "metadata": {},
   "source": [
    "# 1. Write a Python program to Extract Unique values dictionary values?"
   ]
  },
  {
   "cell_type": "code",
   "execution_count": 1,
   "id": "a6ef9fc8",
   "metadata": {},
   "outputs": [],
   "source": [
    "test_dict = {'a' : [5, 6, 7, 8],\n",
    "             'b' : [10, 11, 7, 5],\n",
    "             'c' : [6, 12, 10, 8],\n",
    "             'd' : [1, 2, 5,8]}\n"
   ]
  },
  {
   "cell_type": "code",
   "execution_count": 11,
   "id": "784fa876",
   "metadata": {},
   "outputs": [
    {
     "name": "stdout",
     "output_type": "stream",
     "text": [
      "unique value from dictionry values are : {1, 2, 5, 6, 7, 8, 10, 11, 12}\n"
     ]
    }
   ],
   "source": [
    "lst=set([j for i in test_dict.values() for j in i ])\n",
    "print(f\"unique value from dictionry values are : {lst}\")"
   ]
  },
  {
   "cell_type": "markdown",
   "id": "c4669369",
   "metadata": {},
   "source": [
    "# 2. Write a Python program to find the sum of all items in a dictionary?"
   ]
  },
  {
   "cell_type": "code",
   "execution_count": 20,
   "id": "655196bb",
   "metadata": {},
   "outputs": [],
   "source": [
    "from functools import reduce\n",
    "test_dict = {'a' : [5, 6, 7, 8],\n",
    "             'b' : [10, 11, 7, 5],\n",
    "             'c' : [6, 12, 10, 8],\n",
    "             'd' : [1, 2, 5,8]}\n",
    "lst=[j for i in test_dict.values() for j in i ]\n",
    "total = reduce(lambda sum, i: sum + i, lst)\n"
   ]
  },
  {
   "cell_type": "code",
   "execution_count": 22,
   "id": "19cd77cd",
   "metadata": {},
   "outputs": [
    {
     "name": "stdout",
     "output_type": "stream",
     "text": [
      "Sum of all items is : 111\n"
     ]
    }
   ],
   "source": [
    "print(\"Sum of all items is : {}\".format(total))"
   ]
  },
  {
   "cell_type": "markdown",
   "id": "6ced34b7",
   "metadata": {},
   "source": [
    "# 3. Write a Python program to Merging two Dictionaries?"
   ]
  },
  {
   "cell_type": "code",
   "execution_count": 24,
   "id": "dbd2f412",
   "metadata": {},
   "outputs": [
    {
     "name": "stdout",
     "output_type": "stream",
     "text": [
      "{'x': 10, 'y': 6, 'b': 4}\n"
     ]
    }
   ],
   "source": [
    "def Merge(dict1, dict2):\n",
    "    res = dict1 | dict2\n",
    "    return res\n",
    "\n",
    "dict1 = {'x': 10, 'y': 8}\n",
    "dict2 = {'y': 6, 'b': 4}\n",
    "dict3 = Merge(dict1, dict2)\n",
    "print(dict3)\n"
   ]
  },
  {
   "cell_type": "markdown",
   "id": "681b5b5a",
   "metadata": {},
   "source": [
    "# 4. Write a Python program to convert key-values list to flat dictionary?"
   ]
  },
  {
   "cell_type": "code",
   "execution_count": 25,
   "id": "05e549ef",
   "metadata": {},
   "outputs": [
    {
     "name": "stdout",
     "output_type": "stream",
     "text": [
      "The original dictionary is : {'month': [1, 2, 3], 'name': ['Jan', 'Feb', 'March']}\n",
      "Flattened dictionary : {1: 'Jan', 2: 'Feb', 3: 'March'}\n"
     ]
    }
   ],
   "source": [
    "test_dict = {'month' : [1, 2, 3],\n",
    "             'name' : ['Jan', 'Feb', 'March']}\n",
    "  \n",
    "# printing original dictionary\n",
    "print(\"The original dictionary is : \" + str(test_dict))\n",
    "  \n",
    "# Convert key-values list to flat dictionary\n",
    "# Using dict() + zip()\n",
    "res = dict(zip(test_dict['month'], test_dict['name']))\n",
    "  \n",
    "# printing result \n",
    "print(\"Flattened dictionary : \" + str(res))"
   ]
  },
  {
   "cell_type": "markdown",
   "id": "031b8cf6",
   "metadata": {},
   "source": [
    "# 5. Write a Python program to insertion at the beginning in OrderedDict?"
   ]
  },
  {
   "cell_type": "code",
   "execution_count": 27,
   "id": "87a4dca2",
   "metadata": {},
   "outputs": [
    {
     "name": "stdout",
     "output_type": "stream",
     "text": [
      "Resultant Dictionary : OrderedDict([('Paper', '3'), ('Book', '1'), ('Pen', '2')])\n"
     ]
    }
   ],
   "source": [
    "# insertion of items in beginning of ordered dict\n",
    "from collections import OrderedDict\n",
    "\n",
    "# initialising ordered_dict\n",
    "iniordered_dict = OrderedDict([('Book', '1'), ('Pen', '2')])\n",
    "\n",
    "# inserting items in starting of dict\n",
    "iniordered_dict.update({'Paper':'3'})\n",
    "iniordered_dict.move_to_end('Paper', last = False)\n",
    "\n",
    "# print result\n",
    "print (\"Resultant Dictionary : \"+str(iniordered_dict))\n"
   ]
  },
  {
   "cell_type": "markdown",
   "id": "11e2c93f",
   "metadata": {},
   "source": [
    "# 6. Write a Python program to check order of character in string using OrderedDict()?"
   ]
  },
  {
   "cell_type": "code",
   "execution_count": 29,
   "id": "ad587b42",
   "metadata": {},
   "outputs": [
    {
     "name": "stdout",
     "output_type": "stream",
     "text": [
      "enter string : Computer\n",
      "Enter Pattern : put\n",
      "OrderedDict([('C', None), ('o', None), ('m', None), ('p', None), ('u', None), ('t', None), ('e', None), ('r', None)])\n",
      "Pattern matched\n"
     ]
    }
   ],
   "source": [
    "from collections import OrderedDict \n",
    "  \n",
    "def checkOrderofString(str, pattern): \n",
    "      \n",
    "    # create empty OrderedDict \n",
    "    dict = OrderedDict.fromkeys(str) \n",
    "    print(dict)   \n",
    "    ptrlen = 0\n",
    "    for key,value in dict.items(): \n",
    "        \n",
    "        if (key == pattern[ptrlen]): \n",
    "            ptrlen = ptrlen + 1\n",
    "          \n",
    "        # check if we have traverse complete pattern string \n",
    "        if (ptrlen == (len(pattern))):            \n",
    "            return 'true'\n",
    "  \n",
    "    # if we come out from for loop that means order was mismatched \n",
    "    return 'false'\n",
    "  \n",
    "\n",
    "string = input(\"enter string : \")\n",
    "pattern = input(\"Enter Pattern : \")\n",
    "if checkOrderofString(string,pattern):\n",
    "    print(\"Pattern matched\")\n",
    "else:\n",
    "    print(\"Pattern not matched\")"
   ]
  },
  {
   "cell_type": "markdown",
   "id": "b36aef69",
   "metadata": {},
   "source": [
    "# 7. Write a Python program to sort Python Dictionaries by Key or Value?"
   ]
  },
  {
   "cell_type": "code",
   "execution_count": 30,
   "id": "2346758e",
   "metadata": {},
   "outputs": [
    {
     "name": "stdout",
     "output_type": "stream",
     "text": [
      "[1, 2, 3, 4, 5, 6]\n",
      "[(1, 2), (2, 1), (3, 4), (4, 3), (5, 6), (6, 5)]\n"
     ]
    }
   ],
   "source": [
    "a = {1:2 ,2:1 ,4:3 ,3:4 ,6:5 ,5:6 }\n",
    "#this will print a sorted list of the keys\n",
    "print(sorted(a.keys()))\n",
    "#this will print the sorted list with items.\n",
    "print(sorted(a.items()))\n",
    "\n"
   ]
  },
  {
   "cell_type": "code",
   "execution_count": 31,
   "id": "49216893",
   "metadata": {},
   "outputs": [
    {
     "name": "stdout",
     "output_type": "stream",
     "text": [
      "[1, 2, 3, 4, 5, 6]\n"
     ]
    }
   ],
   "source": [
    "a = {1:2 ,2:1 ,4:3 ,3:4 ,6:5 ,5:6 }\n",
    "print(sorted(a.values()))\n",
    "#this will print a sorted list of values.\n",
    "\n"
   ]
  },
  {
   "cell_type": "code",
   "execution_count": null,
   "id": "0c3e69c6",
   "metadata": {},
   "outputs": [],
   "source": []
  }
 ],
 "metadata": {
  "kernelspec": {
   "display_name": "Python 3 (ipykernel)",
   "language": "python",
   "name": "python3"
  },
  "language_info": {
   "codemirror_mode": {
    "name": "ipython",
    "version": 3
   },
   "file_extension": ".py",
   "mimetype": "text/x-python",
   "name": "python",
   "nbconvert_exporter": "python",
   "pygments_lexer": "ipython3",
   "version": "3.9.7"
  }
 },
 "nbformat": 4,
 "nbformat_minor": 5
}
