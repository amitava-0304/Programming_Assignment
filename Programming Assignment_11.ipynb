{
 "cells": [
  {
   "cell_type": "markdown",
   "id": "1d424e6c",
   "metadata": {},
   "source": [
    "# 1.Write a Python program to find words which are greater than given length k?"
   ]
  },
  {
   "cell_type": "code",
   "execution_count": 1,
   "id": "e29d2e67",
   "metadata": {},
   "outputs": [],
   "source": [
    "def find_words(st,k):\n",
    "    lst=[word for word in st.split() if len(word)>k]\n",
    "    return lst\n"
   ]
  },
  {
   "cell_type": "code",
   "execution_count": 3,
   "id": "90754038",
   "metadata": {},
   "outputs": [
    {
     "name": "stdout",
     "output_type": "stream",
     "text": [
      "Enter the string : If You Have Eggs and Tomatoes You Have Dinner\n",
      "Enter the lenth K : 5\n",
      "['Tomatoes', 'Dinner']\n"
     ]
    }
   ],
   "source": [
    "st = input(\"Enter the string : \")\n",
    "k = int(input(\"Enter the lenth K : \"))\n",
    "print(find_words(st,k))"
   ]
  },
  {
   "cell_type": "markdown",
   "id": "56e6cb31",
   "metadata": {},
   "source": [
    "# 2. Write a Python program for removing i-th character from a string?"
   ]
  },
  {
   "cell_type": "code",
   "execution_count": 5,
   "id": "caa273cb",
   "metadata": {},
   "outputs": [
    {
     "name": "stdout",
     "output_type": "stream",
     "text": [
      "Enter the string : python\n",
      "Enter the index : 3\n",
      "The new string :  pyton\n"
     ]
    }
   ],
   "source": [
    "def remove(test_str, i): \n",
    "    new_str = test_str[:i] +  test_str[i+1:]\n",
    "    return new_str      \n",
    "\n",
    "st = input(\"Enter the string : \")\n",
    "i = int(input(\"Enter the index : \"))      \n",
    "\n",
    "print(\"The new string : \", remove(st, i))"
   ]
  },
  {
   "cell_type": "markdown",
   "id": "6df4b956",
   "metadata": {},
   "source": [
    "# 3. Write a Python program to split and join a string?"
   ]
  },
  {
   "cell_type": "code",
   "execution_count": 6,
   "id": "92fd61fa",
   "metadata": {},
   "outputs": [
    {
     "name": "stdout",
     "output_type": "stream",
     "text": [
      "Spliting a string :  ['this', 'is', 'a', 'string']\n",
      "Joining a string :  this-is-a-string\n"
     ]
    }
   ],
   "source": [
    "str = \"this is a string\"\n",
    "str = str.split(\" \") # str is converted to a list of strings. \n",
    "print(\"Spliting a string : \",str)\n",
    "\n",
    "str2 = \"-\".join(str)\n",
    "print(\"Joining a string : \",str2)\n",
    "\n"
   ]
  },
  {
   "cell_type": "markdown",
   "id": "85144f2a",
   "metadata": {},
   "source": [
    "# 4. Write a Python to check if a given string is binary string or not?"
   ]
  },
  {
   "cell_type": "code",
   "execution_count": 7,
   "id": "8b93142b",
   "metadata": {},
   "outputs": [
    {
     "name": "stdout",
     "output_type": "stream",
     "text": [
      "Enter the string : 10101\n",
      "Its a Binary\n"
     ]
    }
   ],
   "source": [
    "def checkBinary(str):\n",
    "    binary = '01'\n",
    "    for i in range(len(str)):\n",
    "        if str[i] not in binary:\n",
    "            print('Not Binary')\n",
    "            break\n",
    "    else:\n",
    "        print('Its a Binary')\n",
    "        \n",
    "str = input(\"Enter the string : \")\n",
    "checkBinary(str)"
   ]
  },
  {
   "cell_type": "markdown",
   "id": "eadeed99",
   "metadata": {},
   "source": [
    "# 5. Write a Python program to find uncommon words from two Strings?"
   ]
  },
  {
   "cell_type": "code",
   "execution_count": 9,
   "id": "1bc48471",
   "metadata": {},
   "outputs": [
    {
     "name": "stdout",
     "output_type": "stream",
     "text": [
      "Enter the string a : rat map bell cat\n",
      "Enter the string b : cat rat mat bat\n",
      "The list of un Common words :  ['map', 'bell', 'mat', 'bat']\n"
     ]
    }
   ],
   "source": [
    "def unCommon(a,b):\n",
    "    lst = [j for i in zip(a.split(),b.split()) for j in i]\n",
    "    myDict = {word:lst.count(word) for word in lst}\n",
    "    uncommonWords =  [word for word in myDict if  myDict[word] == 1]\n",
    "    return uncommonWords\n",
    "\n",
    "a = input(\"Enter the string a : \").lower()\n",
    "b = input(\"Enter the string b : \").lower()\n",
    "\n",
    "print(\"The list of un Common words : \", unCommon(a,b))  "
   ]
  },
  {
   "cell_type": "markdown",
   "id": "34b4057b",
   "metadata": {},
   "source": [
    "# 6. Write a Python to find all duplicate characters in string?"
   ]
  },
  {
   "cell_type": "code",
   "execution_count": 1,
   "id": "b8a32884",
   "metadata": {},
   "outputs": [],
   "source": [
    "def find_duplicate(st):\n",
    "    lst=[i for i in st]\n",
    "    myDict = {letter:lst.count(letter) for letter in lst}\n",
    "    commonWords =  [word for word in myDict if  myDict[word] > 1]\n",
    "    return commonWords"
   ]
  },
  {
   "cell_type": "code",
   "execution_count": 3,
   "id": "bf70e402",
   "metadata": {},
   "outputs": [
    {
     "name": "stdout",
     "output_type": "stream",
     "text": [
      "Enter the string a : characters\n",
      "All duplicate characters in string are:  ['c', 'a', 'r']\n"
     ]
    }
   ],
   "source": [
    "a = input(\"Enter the string a : \").lower()\n",
    "print(\"All duplicate characters in string are: \", find_duplicate(a)) "
   ]
  },
  {
   "cell_type": "markdown",
   "id": "24deacaa",
   "metadata": {},
   "source": [
    "# 7. Write a Python Program to check if a string contains any special character?"
   ]
  },
  {
   "cell_type": "code",
   "execution_count": 10,
   "id": "0aa26b38",
   "metadata": {},
   "outputs": [
    {
     "name": "stdout",
     "output_type": "stream",
     "text": [
      "String is not accepted\n"
     ]
    }
   ],
   "source": [
    "import string\n",
    "def run(st):\n",
    "    c=0\n",
    "    for i in st:\n",
    "        if i in string.punctuation:\n",
    "            c+=1\n",
    "            \n",
    "    if(c>0):\n",
    "        print(\"String is not accepted\")\n",
    "    else:\n",
    "        print(\"String is  accepted.\")\n",
    "st = \"Geek%sForGeek#s\"\n",
    "run(st)\n"
   ]
  },
  {
   "cell_type": "code",
   "execution_count": null,
   "id": "873d3551",
   "metadata": {},
   "outputs": [],
   "source": []
  }
 ],
 "metadata": {
  "kernelspec": {
   "display_name": "Python 3 (ipykernel)",
   "language": "python",
   "name": "python3"
  },
  "language_info": {
   "codemirror_mode": {
    "name": "ipython",
    "version": 3
   },
   "file_extension": ".py",
   "mimetype": "text/x-python",
   "name": "python",
   "nbconvert_exporter": "python",
   "pygments_lexer": "ipython3",
   "version": "3.9.7"
  }
 },
 "nbformat": 4,
 "nbformat_minor": 5
}
