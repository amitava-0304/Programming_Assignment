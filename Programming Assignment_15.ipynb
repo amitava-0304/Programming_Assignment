{
 "cells": [
  {
   "cell_type": "code",
   "execution_count": null,
   "id": "10b27608",
   "metadata": {},
   "outputs": [],
   "source": [
    "1. Please write a program using generator to print the numbers which can be divisible by 5 and 7 \n",
    "between 0 and n in comma separated form while n is input by console ?\n",
    "\n",
    "Example:\n",
    "If the following n is given as input to the program: 100\n",
    "Then, the output of the program should be: 0,35,70\n"
   ]
  },
  {
   "cell_type": "code",
   "execution_count": 4,
   "id": "15075db9",
   "metadata": {},
   "outputs": [],
   "source": [
    "def display_generator(n):\n",
    "    for i in range(0,n+1):\n",
    "        if i%5==0 and i%7==0:\n",
    "            yield i"
   ]
  },
  {
   "cell_type": "code",
   "execution_count": 10,
   "id": "864d28c6",
   "metadata": {},
   "outputs": [
    {
     "name": "stdout",
     "output_type": "stream",
     "text": [
      "Enter the number:100\n",
      "0,35,70,"
     ]
    }
   ],
   "source": [
    "n=int(input(\"Enter the number:\"))\n",
    "for i in display_generator(n):\n",
    "    print(i,end=',')"
   ]
  },
  {
   "cell_type": "code",
   "execution_count": null,
   "id": "1445a991",
   "metadata": {},
   "outputs": [],
   "source": [
    "2.Please write a program using generator to print the even numbers between 0 and n in comma separated form\n",
    "while n is input by console ?\n",
    "\n",
    "Example:\n",
    "If the following n is given as input to the program: 10\n",
    "Then, the output of the program should be: 0,2,4,6,8,10\n"
   ]
  },
  {
   "cell_type": "code",
   "execution_count": 11,
   "id": "b528545d",
   "metadata": {},
   "outputs": [],
   "source": [
    "def display_evens(n):\n",
    "    for i in range(0,n+1):\n",
    "        if i%2==0:\n",
    "            yield i"
   ]
  },
  {
   "cell_type": "code",
   "execution_count": 12,
   "id": "961e95ef",
   "metadata": {},
   "outputs": [
    {
     "name": "stdout",
     "output_type": "stream",
     "text": [
      "Enter the number:10\n",
      "0,2,4,6,8,10,"
     ]
    }
   ],
   "source": [
    "n=int(input(\"Enter the number:\"))\n",
    "for i in display_evens(n):\n",
    "    print(i,end=',')"
   ]
  },
  {
   "cell_type": "code",
   "execution_count": null,
   "id": "f5288a3c",
   "metadata": {},
   "outputs": [],
   "source": [
    "3.The Fibonacci Sequence is computed based on the following formula below, Please write a program using list \n",
    "comprehension to print the Fibonacci Sequence in comma separated form with a given n input by console ?\n",
    "\n",
    "f(n)=0 if n=0\n",
    "f(n)=1 if n=1\n",
    "f(n)=f(n-1)+f(n-2) if n>1\n"
   ]
  },
  {
   "cell_type": "code",
   "execution_count": 13,
   "id": "64658840",
   "metadata": {},
   "outputs": [],
   "source": [
    "def Fibonacci_Sequence(n):\n",
    "    if n == 0:\n",
    "        return 0\n",
    "    elif n== 1:\n",
    "        return 1\n",
    "    else:\n",
    "        return Fibonacci_Sequence(n-1)+Fibonacci_Sequence(n-2)"
   ]
  },
  {
   "cell_type": "code",
   "execution_count": 15,
   "id": "524a4fd6",
   "metadata": {},
   "outputs": [
    {
     "name": "stdout",
     "output_type": "stream",
     "text": [
      "[0, 1, 1, 2, 3, 5, 8, 13, 21, 34]\n"
     ]
    }
   ],
   "source": [
    "print([Fibonacci_Sequence(x) for x in range(10)])"
   ]
  },
  {
   "cell_type": "code",
   "execution_count": null,
   "id": "ffe8ee01",
   "metadata": {},
   "outputs": [],
   "source": [
    "4.Assuming that we have some email addresses in the \"username@companyname.com\" format, \n",
    "please write program to print the user name of a given email address. Both user names and company names are \n",
    "composed of letters only ?\n",
    "\n",
    "Example:\n",
    "If the following email address is given as input to the program: john@google.com\n",
    "Then, the output of the program should be: john"
   ]
  },
  {
   "cell_type": "code",
   "execution_count": 20,
   "id": "e4764200",
   "metadata": {},
   "outputs": [
    {
     "name": "stdout",
     "output_type": "stream",
     "text": [
      "Enter Email Address(es): john@google.com\n",
      "Username of john@google.com is john\n"
     ]
    }
   ],
   "source": [
    "def getUsernames(in_st):\n",
    "    out = in_st.split('@')\n",
    "    print(f'Username of {in_st} is {out[0]}')\n",
    "\n",
    "st = input('Enter Email Address(es): ')\n",
    "getUsernames(st)"
   ]
  },
  {
   "cell_type": "code",
   "execution_count": null,
   "id": "bf7d0c52",
   "metadata": {},
   "outputs": [],
   "source": [
    "5.Define a class named Shape and its subclass Square. The Square class has an init function which takes a length as argument.\n",
    "Both classes have a area function which can print the area of the shape where Shape's area is 0 by default."
   ]
  },
  {
   "cell_type": "code",
   "execution_count": 21,
   "id": "635efb62",
   "metadata": {},
   "outputs": [
    {
     "name": "stdout",
     "output_type": "stream",
     "text": [
      "2500\n"
     ]
    }
   ],
   "source": [
    "class Shape:\n",
    "    def area(self):\n",
    "        return 0\n",
    "\n",
    "class Square(Shape):\n",
    "    def __init__(self, length):\n",
    "        self.length = length\n",
    "    def area(self):\n",
    "        return self.length*self.length\n",
    "\n",
    "square = Square(50)\n",
    "print(square.area())"
   ]
  },
  {
   "cell_type": "code",
   "execution_count": null,
   "id": "51034bfe",
   "metadata": {},
   "outputs": [],
   "source": []
  }
 ],
 "metadata": {
  "kernelspec": {
   "display_name": "Python 3 (ipykernel)",
   "language": "python",
   "name": "python3"
  },
  "language_info": {
   "codemirror_mode": {
    "name": "ipython",
    "version": 3
   },
   "file_extension": ".py",
   "mimetype": "text/x-python",
   "name": "python",
   "nbconvert_exporter": "python",
   "pygments_lexer": "ipython3",
   "version": "3.9.7"
  }
 },
 "nbformat": 4,
 "nbformat_minor": 5
}
