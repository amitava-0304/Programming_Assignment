{
 "cells": [
  {
   "cell_type": "markdown",
   "metadata": {},
   "source": [
    "## Python Basic Programming 4"
   ]
  },
  {
   "cell_type": "markdown",
   "metadata": {},
   "source": [
    "### 1. Write a Python Program to Find the Factorial of a Number?\n"
   ]
  },
  {
   "cell_type": "code",
   "execution_count": 4,
   "metadata": {},
   "outputs": [
    {
     "name": "stdout",
     "output_type": "stream",
     "text": [
      "Enter a Number to find factorial : 7\n",
      "Factorial of 7 is 5040\n"
     ]
    }
   ],
   "source": [
    "# Factorial of a number\n",
    "num = int(input(\"Enter a Number to find factorial : \"))\n",
    "factorial = 1\n",
    "if num < 0:\n",
    "    print(\"Can not calculate Factorial of a negative number\")\n",
    "elif num == 0:\n",
    "    print(\"Factorial of zero is 1\")\n",
    "else:\n",
    "    for i in range(1,num+1):\n",
    "        factorial = factorial * i\n",
    "print(\"Factorial of {} is {}\".format(num, factorial))"
   ]
  },
  {
   "cell_type": "markdown",
   "metadata": {},
   "source": [
    "### 2. Write a Python Program to Display the multiplication Table?\n"
   ]
  },
  {
   "cell_type": "code",
   "execution_count": 10,
   "metadata": {},
   "outputs": [
    {
     "name": "stdout",
     "output_type": "stream",
     "text": [
      "Enter a Number to diaply its multiplication table : 9\n",
      "\n",
      "Multiplication table for number 9\n",
      "\n",
      "9 X 1 = 9\n",
      "9 X 2 = 18\n",
      "9 X 3 = 27\n",
      "9 X 4 = 36\n",
      "9 X 5 = 45\n",
      "9 X 6 = 54\n",
      "9 X 7 = 63\n",
      "9 X 8 = 72\n",
      "9 X 9 = 81\n",
      "9 X 10 = 90\n"
     ]
    }
   ],
   "source": [
    "# Multiplication table\n",
    "num = int(input(\"Enter a Number to diaply its multiplication table : \"))\n",
    "\n",
    "print(\"\\nMultiplication table for number {}\\n\".format(num))\n",
    "for i in range(1,11):\n",
    "    print(\"{} X {} = {}\".format(num,i,i*num))"
   ]
  },
  {
   "cell_type": "markdown",
   "metadata": {},
   "source": [
    "### 3. Write a Python Program to Print the Fibonacci sequence?\n"
   ]
  },
  {
   "cell_type": "code",
   "execution_count": 20,
   "metadata": {},
   "outputs": [
    {
     "name": "stdout",
     "output_type": "stream",
     "text": [
      "enter a number to find the fibonacci series : 34\n",
      "Fibonacci series upto  34 :\n",
      "0 1 1 2 3 5 8 13 21 34 55 89 144 233 377 610 987 1597 2584 4181 6765 10946 17711 28657 46368 75025 121393 196418 317811 514229 832040 1346269 2178309 3524578 5702887 "
     ]
    }
   ],
   "source": [
    "# Fibonacci series - > 1, 1, 2, 3, 5,8,13........\n",
    "\n",
    "sequence = int(input(\"enter a number to find the fibonacci series : \"))\n",
    "count = 0\n",
    "f1 , f2 = 0,1\n",
    "\n",
    "if sequence <= 0:\n",
    "    print(\"Please enter a positive number\")\n",
    "elif sequence == 1:\n",
    "    print(\"Fibonacci series upto \",sequence, \":\")\n",
    "    print(f1)\n",
    "else:\n",
    "    print(\"Fibonacci series upto \",sequence, \":\")\n",
    "    while count <= sequence:        \n",
    "        print(f1, end=\" \")\n",
    "        fth = f1 + f2\n",
    "        f1,f2 = f2, fth\n",
    "        count+=1\n",
    "        "
   ]
  },
  {
   "cell_type": "markdown",
   "metadata": {},
   "source": [
    "### 4. Write a Python Program to Check Armstrong Number?\n"
   ]
  },
  {
   "cell_type": "markdown",
   "metadata": {},
   "source": [
    "### Armstrong number is a number that is equal to the sum of power of its digits\n",
    "    - 153 = length = 3\n",
    "       - 1*1*1 = 1\n",
    "       - 5*5*5 = 125\n",
    "       - 3*3*3 = 27\n",
    "       sum = 1 + 125 + 27 = 153\n",
    "       num = sum"
   ]
  },
  {
   "cell_type": "code",
   "execution_count": 25,
   "metadata": {},
   "outputs": [
    {
     "name": "stdout",
     "output_type": "stream",
     "text": [
      "Enter the number : 150\n",
      "Not an armstrong number\n"
     ]
    }
   ],
   "source": [
    "## finding for a single number\n",
    "num = int(input(\"Enter the number : \"))\n",
    "\n",
    "power = len(str(num))\n",
    "\n",
    "temp = num\n",
    "sum = 0\n",
    "while temp > 0:\n",
    "    digit = temp % 10\n",
    "    sum = sum + digit ** power\n",
    "    temp = temp//10\n",
    "if num == sum :\n",
    "    print(\"Number is armstrong number\")\n",
    "else:\n",
    "    print(\"Not an armstrong number\")"
   ]
  },
  {
   "cell_type": "markdown",
   "metadata": {},
   "source": [
    "### 5. Write a Python Program to Find Armstrong Number in an Interval?\n"
   ]
  },
  {
   "cell_type": "code",
   "execution_count": 32,
   "metadata": {},
   "outputs": [
    {
     "name": "stdout",
     "output_type": "stream",
     "text": [
      "Lower limit : 100\n",
      "Upper limit : 1000\n",
      "153\n",
      "370\n",
      "371\n",
      "407\n"
     ]
    }
   ],
   "source": [
    "## fining for a range of numbers\n",
    "low = int(input(\"Lower limit : \"))\n",
    "up = int(input(\"Upper limit : \"))\n",
    "\n",
    "\n",
    "for num in range(low,up+1):\n",
    "    power = len(str(num))\n",
    "    temp = num\n",
    "    sum = 0\n",
    "    while temp > 0:\n",
    "        digit = temp % 10\n",
    "        sum = sum + digit ** power\n",
    "        temp = temp//10\n",
    "    if num == sum :\n",
    "        print(num)"
   ]
  },
  {
   "cell_type": "markdown",
   "metadata": {},
   "source": [
    "### 6. Write a Python Program to Find the Sum of Natural Numbers?"
   ]
  },
  {
   "cell_type": "code",
   "execution_count": 35,
   "metadata": {},
   "outputs": [
    {
     "name": "stdout",
     "output_type": "stream",
     "text": [
      "enter the number : 20\n",
      "Sum of natural numbers upto 20 is 210\n"
     ]
    }
   ],
   "source": [
    "num = int(input(\"enter the number : \"))\n",
    "sum = 0\n",
    "for i in range(0,num+1):\n",
    "    sum+=i\n",
    "print(\"Sum of natural numbers upto {} is {}\".format(num,sum))\n",
    "    "
   ]
  }
 ],
 "metadata": {
  "kernelspec": {
   "display_name": "Python 3",
   "language": "python",
   "name": "python3"
  },
  "language_info": {
   "codemirror_mode": {
    "name": "ipython",
    "version": 3
   },
   "file_extension": ".py",
   "mimetype": "text/x-python",
   "name": "python",
   "nbconvert_exporter": "python",
   "pygments_lexer": "ipython3",
   "version": "3.8.3"
  }
 },
 "nbformat": 4,
 "nbformat_minor": 4
}
